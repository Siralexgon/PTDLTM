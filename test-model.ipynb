{
 "cells": [
  {
   "cell_type": "code",
   "execution_count": 3,
   "metadata": {},
   "outputs": [],
   "source": [
    "import matplotlib.pyplot as plt\n",
    "from keras_nlp.api.models import DebertaV3Preprocessor\n",
    "from keras_nlp.api.models import DebertaV3Classifier\n",
    "import keras\n",
    "import tensorflow as tf\n",
    "\n",
    "import numpy as np\n",
    "import pandas as pd\n",
    "\n",
    "import matplotlib.pyplot as plt\n",
    "import matplotlib as mpl\n",
    "\n",
    "\n",
    "def create_DebertaV3_model(model_preset, manual_preprocess=False):\n",
    "    if not manual_preprocess:\n",
    "        debertaV3 = DebertaV3Classifier.from_preset(model_preset, num_classes=6)\n",
    "    else:\n",
    "        debertaV3 = DebertaV3Classifier.from_preset(\n",
    "            model_preset, preprocessor=None, num_classes=6\n",
    "        )\n",
    "    inputs = debertaV3.input\n",
    "    outputs = debertaV3(inputs)\n",
    "\n",
    "    prob_outputs = keras.layers.Activation(\"sigmoid\")(outputs)\n",
    "    model = keras.Model(inputs, prob_outputs)\n",
    "\n",
    "    return model\n",
    "\n",
    "\n",
    "def make_ordinary(y):\n",
    "    n = len(y)\n",
    "    z = np.zeros((n, 6), \"float32\")\n",
    "    for i in range(n):\n",
    "        s = y[i]\n",
    "        z[i, :s] = 1\n",
    "    return z"
   ]
  },
  {
   "cell_type": "markdown",
   "metadata": {},
   "source": [
    "## Test model đã được lưu với đầu vào ngẫu nhiên"
   ]
  },
  {
   "cell_type": "code",
   "execution_count": null,
   "metadata": {},
   "outputs": [],
   "source": [
    "test_df = pd.read_csv(\".csv\")\n",
    "\n",
    "test_ds = (\n",
    "    tf.data.Dataset.from_tensor_slices(\n",
    "        (test_df[\"full_text\"].tolist(),\n",
    "          make_ordinary(test_df[\"score\"].tolist()))\n",
    "    )\n",
    "    .cache()\n",
    "    .batch(32)\n",
    ")\n",
    "\n",
    "model_test = create_DebertaV3_model(\"deberta_v3_extra_small_en\")\n",
    "model_test.load_weights(\"model.h5\")\n",
    "print(\"Loss in test set :\")"
   ]
  },
  {
   "cell_type": "markdown",
   "metadata": {},
   "source": [
    "### Một vài ví dụ"
   ]
  },
  {
   "cell_type": "code",
   "execution_count": null,
   "metadata": {},
   "outputs": [],
   "source": [
    "df_sample = test_df.sample(n=10)\n",
    "sample_ds = tf.data.Dataset.from_tensor_slices(\n",
    "    (df_sample[\"full_text\"].tolist(),\n",
    "      make_ordinary(df_sample[\"score\"].tolist()))\n",
    ")\n",
    "predicts = model_test.predict(test_ds, verbose=0)\n",
    "\n",
    "for i in range(len(predicts)):\n",
    "    predict = predicts[i]\n",
    "    print(\"Essay: \", df_sample.iloc[i][\"full_text\"])\n",
    "    print(\"Prediction: \", np.sum(predict >= 0.5))\n",
    "    print(\"Truth Score: \", df_sample.iloc[i][\"score\"])"
   ]
  }
 ],
 "metadata": {
  "kernelspec": {
   "display_name": "Python 3",
   "language": "python",
   "name": "python3"
  },
  "language_info": {
   "codemirror_mode": {
    "name": "ipython",
    "version": 3
   },
   "file_extension": ".py",
   "mimetype": "text/x-python",
   "name": "python",
   "nbconvert_exporter": "python",
   "pygments_lexer": "ipython3",
   "version": "3.10.12"
  }
 },
 "nbformat": 4,
 "nbformat_minor": 2
}
