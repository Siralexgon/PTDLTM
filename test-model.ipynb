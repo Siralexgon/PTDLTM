{
 "cells": [
  {
   "cell_type": "code",
   "execution_count": 3,
   "metadata": {},
   "outputs": [],
   "source": [
    "import matplotlib.pyplot as plt\n",
    "from keras_nlp.models import DebertaV3Preprocessor\n",
    "from keras_nlp.models import DebertaV3Classifier\n",
    "import keras\n",
    "import tensorflow as tf\n",
    "\n",
    "import numpy as np\n",
    "import pandas as pd\n",
    "\n",
    "preprocessor = DebertaV3Preprocessor.from_preset(\n",
    "    preset=\"deberta_v3_extra_small_en\",\n",
    "    sequence_length=512,\n",
    ")\n",
    "\n",
    "\n",
    "def input_process(input, label):\n",
    "    return (preprocessor(input), label)\n",
    "\n",
    "\n",
    "def create_DebertaV3_model(model_preset, manual_preprocess=False):\n",
    "    if not manual_preprocess:\n",
    "        debertaV3 = DebertaV3Classifier.from_preset(model_preset, num_classes=6)\n",
    "    else:\n",
    "        debertaV3 = DebertaV3Classifier.from_preset(\n",
    "            model_preset, preprocessor=None, num_classes=6\n",
    "        )\n",
    "    inputs = debertaV3.input\n",
    "    outputs = debertaV3(inputs)\n",
    "\n",
    "    prob_outputs = keras.layers.Activation(\"sigmoid\")(outputs)\n",
    "    model = keras.Model(inputs, prob_outputs)\n",
    "\n",
    "    return model\n",
    "\n",
    "\n",
    "def label_process(y):\n",
    "    n = len(y)\n",
    "    z = np.zeros((n, 6), \"float32\")\n",
    "    for i in range(n):\n",
    "        s = y[i]\n",
    "        z[i, :s] = 1\n",
    "    return z"
   ]
  },
  {
   "cell_type": "markdown",
   "metadata": {},
   "source": [
    "### Chấm điểm cho dữ liệu test"
   ]
  },
  {
   "cell_type": "code",
   "execution_count": null,
   "metadata": {},
   "outputs": [],
   "source": [
    "test_df = pd.read_csv(\"test.csv\")\n",
    "test_X = test_df[\"full_text\"].tolist()\n",
    "test_y = label_process(test_df[\"score\"].tolist())\n",
    "test_ds = tf.data.Dataset.from_tensor_slices((test_X,test_y)).map(input_process)\n",
    "\n",
    "model_test = create_DebertaV3_model(\"deberta_v3_extra_small_en\")\n",
    "model_test.load_weights(\"model.h5\")\n",
    "\n",
    "predicts = model_test.predict(test_ds, verbose=0)\n",
    "\n",
    "for i in range(len(test_df)):\n",
    "   predict = predicts[i]\n",
    "   print(test_df.iloc[i]['essay_id'],\": \",np.sum(predict >= 0.5))"
   ]
  },
  {
   "cell_type": "markdown",
   "metadata": {},
   "source": [
    "### Một vài ví dụ cho dữ liệu train"
   ]
  },
  {
   "cell_type": "code",
   "execution_count": null,
   "metadata": {},
   "outputs": [],
   "source": [
    "df_sample = pd.read_csv(\"train.csv\").sample(n=10)\n",
    "sample_X = df_sample[\"full_text\"].tolist()\n",
    "sample_y = label_process(df_sample[\"score\"].tolist())\n",
    "sample_ds = tf.data.Dataset.from_tensor_slices((sample_X,sample_y)).map(input_process)\n",
    "predicts = model_test.predict(sample_ds, verbose=0)\n",
    "\n",
    "for i in range(len(predicts)):\n",
    "    predict = predicts[i]\n",
    "    print(\"Essay: \", df_sample.iloc[i][\"full_text\"])\n",
    "    print(\"Prediction: \", np.sum(predict >= 0.5))\n",
    "    print(\"Truth Score: \", df_sample.iloc[i][\"score\"])"
   ]
  }
 ],
 "metadata": {
  "kernelspec": {
   "display_name": "Python 3",
   "language": "python",
   "name": "python3"
  },
  "language_info": {
   "codemirror_mode": {
    "name": "ipython",
    "version": 3
   },
   "file_extension": ".py",
   "mimetype": "text/x-python",
   "name": "python",
   "nbconvert_exporter": "python",
   "pygments_lexer": "ipython3",
   "version": "3.10.12"
  }
 },
 "nbformat": 4,
 "nbformat_minor": 2
}
