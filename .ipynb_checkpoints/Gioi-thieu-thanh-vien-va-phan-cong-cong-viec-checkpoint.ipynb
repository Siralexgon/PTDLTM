{
 "cells": [
  {
   "cell_type": "markdown",
   "id": "fa37fb0e-4416-410a-90bb-c8a4130af5d0",
   "metadata": {},
   "source": [
    "# Giới thiệu nhóm và phân công đồ án thực hành"
   ]
  },
  {
   "cell_type": "markdown",
   "id": "a0e74646-1ce7-423b-8f9d-d2a4dc08cada",
   "metadata": {},
   "source": [
    "## 1. Giới thiệu thành viên"
   ]
  },
  {
   "cell_type": "markdown",
   "id": "f50425f9-495d-44e0-81ed-8ed09c5d62c7",
   "metadata": {},
   "source": [
    "**Tên nhóm: TSTKLK**\n",
    "\n",
    "**Thành viên:**\n",
    "\n",
    "| MSSV | Họ và tên | Email |\n",
    "| :--- | :-------- | :---- |\n",
    "| 21120546 | **Nguyễn Thanh Sang** | [21120546@student.hcmus.edu.vn]|\n",
    "| 21120585 | **Lê Anh Tú** | [21120585@student.hcmus.edu.vn]|\n",
    "| 21120587 | **Nguyễn Minh Tuấn** | [21120587@student.hcmus.edu.vn]|\n",
    "| 20120220 | **Thái Minh Trí** | [20120220@student.hcmus.edu.vn]|\n",
    "| 21120213 | **Lê Đức Cường** | [21120213@student.hcmus.edu.vn]|\n",
    "\n"
   ]
  },
  {
   "cell_type": "markdown",
   "id": "4d949738-9e8a-4f3e-b532-c822a6dfdd7b",
   "metadata": {},
   "source": [
    "## 2. Phân công"
   ]
  },
  {
   "cell_type": "markdown",
   "id": "34f3c9df-d2ec-4fae-a457-8936db96b6a1",
   "metadata": {},
   "source": [
    "| Họ và tên | Công việc | Mức độ hoàn thành | \n",
    "| :-------------------- | :------------------------------ | :--------------|\n",
    "| Nguyễn Thanh Sang | Tiền xử lý và khám phá dữ liệu | 100% |\n",
    "| Lê Anh Tú | Khám phá dữ liệu + Video | 100% |\n",
    "| Nguyễn Minh Tuấn |Models + Hoàn thành slide | 100% |\n",
    "| Thái Minh Trí | Thiết kế models + code | 100% |\n",
    "| Lê Đức Cường |Quay video + edit video | 100% |\n"
   ]
  },
  {
   "cell_type": "code",
   "execution_count": null,
   "id": "4b4e7221-87eb-4777-b411-7c96ccffdec7",
   "metadata": {},
   "outputs": [],
   "source": []
  }
 ],
 "metadata": {
  "kernelspec": {
   "display_name": "Python 3 (ipykernel)",
   "language": "python",
   "name": "python3"
  },
  "language_info": {
   "codemirror_mode": {
    "name": "ipython",
    "version": 3
   },
   "file_extension": ".py",
   "mimetype": "text/x-python",
   "name": "python",
   "nbconvert_exporter": "python",
   "pygments_lexer": "ipython3",
   "version": "3.8.9"
  }
 },
 "nbformat": 4,
 "nbformat_minor": 5
}
