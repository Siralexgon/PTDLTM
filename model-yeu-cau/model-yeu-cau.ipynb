{
  "cells": [
    {
      "cell_type": "markdown",
      "metadata": {},
      "source": [
        "# Lưu ý : đặt train train.csv và test.csv lên drive như đừng dẫn "
      ]
    },
    {
      "cell_type": "code",
      "execution_count": 25,
      "metadata": {
        "colab": {
          "base_uri": "https://localhost:8080/",
          "height": 53
        },
        "id": "OL-Qa2y4qRal",
        "outputId": "913de1d2-be2c-4817-cdc5-b48087b80252"
      },
      "outputs": [
        {
          "name": "stdout",
          "output_type": "stream",
          "text": [
            "Drive already mounted at /content/drive; to attempt to forcibly remount, call drive.mount(\"/content/drive\", force_remount=True).\n"
          ]
        },
        {
          "data": {
            "application/vnd.google.colaboratory.intrinsic+json": {
              "type": "string"
            },
            "text/plain": [
              "'./train.csv'"
            ]
          },
          "execution_count": 25,
          "metadata": {},
          "output_type": "execute_result"
        }
      ],
      "source": [
        "from google.colab import drive\n",
        "\n",
        "drive.mount(\"/content/drive\")\n",
        "\n",
        "import shutil\n",
        "\n",
        "source = \"./drive/MyDrive/train.csv\"\n",
        "destination = \"./train.csv\"\n",
        "shutil.copy(source, destination)"
      ]
    },
    {
      "cell_type": "code",
      "execution_count": 26,
      "metadata": {
        "colab": {
          "base_uri": "https://localhost:8080/"
        },
        "id": "qzgv1flCqRan",
        "outputId": "902e3dd2-9a3b-449c-89da-4394191266b2"
      },
      "outputs": [
        {
          "name": "stdout",
          "output_type": "stream",
          "text": [
            "Requirement already satisfied: torchtext in /usr/local/lib/python3.10/dist-packages (0.18.0)\n",
            "Requirement already satisfied: tqdm in /usr/local/lib/python3.10/dist-packages (from torchtext) (4.66.4)\n",
            "Requirement already satisfied: requests in /usr/local/lib/python3.10/dist-packages (from torchtext) (2.31.0)\n",
            "Requirement already satisfied: torch>=2.3.0 in /usr/local/lib/python3.10/dist-packages (from torchtext) (2.3.0+cu121)\n",
            "Requirement already satisfied: numpy in /usr/local/lib/python3.10/dist-packages (from torchtext) (1.25.2)\n",
            "Requirement already satisfied: filelock in /usr/local/lib/python3.10/dist-packages (from torch>=2.3.0->torchtext) (3.14.0)\n",
            "Requirement already satisfied: typing-extensions>=4.8.0 in /usr/local/lib/python3.10/dist-packages (from torch>=2.3.0->torchtext) (4.11.0)\n",
            "Requirement already satisfied: sympy in /usr/local/lib/python3.10/dist-packages (from torch>=2.3.0->torchtext) (1.12)\n",
            "Requirement already satisfied: networkx in /usr/local/lib/python3.10/dist-packages (from torch>=2.3.0->torchtext) (3.3)\n",
            "Requirement already satisfied: jinja2 in /usr/local/lib/python3.10/dist-packages (from torch>=2.3.0->torchtext) (3.1.4)\n",
            "Requirement already satisfied: fsspec in /usr/local/lib/python3.10/dist-packages (from torch>=2.3.0->torchtext) (2023.6.0)\n",
            "Requirement already satisfied: nvidia-cuda-nvrtc-cu12==12.1.105 in /usr/local/lib/python3.10/dist-packages (from torch>=2.3.0->torchtext) (12.1.105)\n",
            "Requirement already satisfied: nvidia-cuda-runtime-cu12==12.1.105 in /usr/local/lib/python3.10/dist-packages (from torch>=2.3.0->torchtext) (12.1.105)\n",
            "Requirement already satisfied: nvidia-cuda-cupti-cu12==12.1.105 in /usr/local/lib/python3.10/dist-packages (from torch>=2.3.0->torchtext) (12.1.105)\n",
            "Requirement already satisfied: nvidia-cudnn-cu12==8.9.2.26 in /usr/local/lib/python3.10/dist-packages (from torch>=2.3.0->torchtext) (8.9.2.26)\n",
            "Requirement already satisfied: nvidia-cublas-cu12==12.1.3.1 in /usr/local/lib/python3.10/dist-packages (from torch>=2.3.0->torchtext) (12.1.3.1)\n",
            "Requirement already satisfied: nvidia-cufft-cu12==11.0.2.54 in /usr/local/lib/python3.10/dist-packages (from torch>=2.3.0->torchtext) (11.0.2.54)\n",
            "Requirement already satisfied: nvidia-curand-cu12==10.3.2.106 in /usr/local/lib/python3.10/dist-packages (from torch>=2.3.0->torchtext) (10.3.2.106)\n",
            "Requirement already satisfied: nvidia-cusolver-cu12==11.4.5.107 in /usr/local/lib/python3.10/dist-packages (from torch>=2.3.0->torchtext) (11.4.5.107)\n",
            "Requirement already satisfied: nvidia-cusparse-cu12==12.1.0.106 in /usr/local/lib/python3.10/dist-packages (from torch>=2.3.0->torchtext) (12.1.0.106)\n",
            "Requirement already satisfied: nvidia-nccl-cu12==2.20.5 in /usr/local/lib/python3.10/dist-packages (from torch>=2.3.0->torchtext) (2.20.5)\n",
            "Requirement already satisfied: nvidia-nvtx-cu12==12.1.105 in /usr/local/lib/python3.10/dist-packages (from torch>=2.3.0->torchtext) (12.1.105)\n",
            "Requirement already satisfied: triton==2.3.0 in /usr/local/lib/python3.10/dist-packages (from torch>=2.3.0->torchtext) (2.3.0)\n",
            "Requirement already satisfied: nvidia-nvjitlink-cu12 in /usr/local/lib/python3.10/dist-packages (from nvidia-cusolver-cu12==11.4.5.107->torch>=2.3.0->torchtext) (12.5.40)\n",
            "Requirement already satisfied: charset-normalizer<4,>=2 in /usr/local/lib/python3.10/dist-packages (from requests->torchtext) (3.3.2)\n",
            "Requirement already satisfied: idna<4,>=2.5 in /usr/local/lib/python3.10/dist-packages (from requests->torchtext) (3.7)\n",
            "Requirement already satisfied: urllib3<3,>=1.21.1 in /usr/local/lib/python3.10/dist-packages (from requests->torchtext) (2.0.7)\n",
            "Requirement already satisfied: certifi>=2017.4.17 in /usr/local/lib/python3.10/dist-packages (from requests->torchtext) (2024.2.2)\n",
            "Requirement already satisfied: MarkupSafe>=2.0 in /usr/local/lib/python3.10/dist-packages (from jinja2->torch>=2.3.0->torchtext) (2.1.5)\n",
            "Requirement already satisfied: mpmath>=0.19 in /usr/local/lib/python3.10/dist-packages (from sympy->torch>=2.3.0->torchtext) (1.3.0)\n"
          ]
        }
      ],
      "source": [
        "!pip3 install torchtext"
      ]
    },
    {
      "cell_type": "code",
      "execution_count": 27,
      "metadata": {
        "id": "NwpPCxwAqRao"
      },
      "outputs": [],
      "source": [
        "import numpy as np\n",
        "from sklearn.model_selection import train_test_split\n",
        "import torch\n",
        "from torchtext.data.utils import get_tokenizer\n",
        "from torchtext.vocab import build_vocab_from_iterator\n",
        "from torch.nn.utils.rnn import pad_sequence\n",
        "from torch.utils.data import DataLoader\n",
        "import torch.nn as nn\n",
        "import torch.optim as optim\n",
        "import pandas as pd\n",
        "from torch.utils.data import Dataset"
      ]
    },
    {
      "cell_type": "code",
      "execution_count": 28,
      "metadata": {
        "id": "AEBiK4eOqRao"
      },
      "outputs": [],
      "source": [
        "batch_size = 32\n",
        "epochs = 30\n",
        "lr = 0.000001\n",
        "device = torch.device(\"cuda\" if torch.cuda.is_available() else \"cpu\")"
      ]
    },
    {
      "cell_type": "markdown",
      "metadata": {
        "id": "f_R575VNqRao"
      },
      "source": [
        "## 1. Tiền xử lý dữ liệu\n",
        "### 1.1 Tiền xử lý dữ liệu đầu vào\n",
        "- Dữ liệu văn đầu vào bằng cách chuyển đổi thành một list token, vd: uchiha sasuke -> [uchiha,sasuke], sau đó tạo bảng chỉ mục cho token. Và chuyên đổi thành lowercase.</br>\n",
        "- Chia dữ liệu ra thành dữ liệu train và dữ liệu validation theo tỷ lệ 80-20.\n"
      ]
    },
    {
      "cell_type": "code",
      "execution_count": 29,
      "metadata": {
        "colab": {
          "base_uri": "https://localhost:8080/"
        },
        "id": "s7nMYmKbqRap",
        "outputId": "68c702ad-1d71-4835-ea4a-22e0dd2fde08"
      },
      "outputs": [
        {
          "name": "stderr",
          "output_type": "stream",
          "text": [
            "/usr/local/lib/python3.10/dist-packages/spacy/util.py:1740: UserWarning: [W111] Jupyter notebook detected: if using `prefer_gpu()` or `require_gpu()`, include it in the same cell right before `spacy.load()` to ensure that the model is loaded on the correct device. More information: http://spacy.io/usage/v3#jupyter-notebook-gpu\n",
            "  warnings.warn(Warnings.W111)\n"
          ]
        }
      ],
      "source": [
        "df = pd.read_csv(\"./train.csv\")\n",
        "X_train_df, X_val_df, y_train_df, y_val_df = train_test_split(\n",
        "    df[\"full_text\"], df[\"score\"], test_size=0.2, stratify=df[\"score\"]\n",
        ")\n",
        "\n",
        "tokenizer = get_tokenizer(\"spacy\", language=\"en_core_web_sm\")\n",
        "\n",
        "\n",
        "def process_input(text):\n",
        "    return tokenizer(text)"
      ]
    },
    {
      "cell_type": "markdown",
      "metadata": {
        "id": "eeFjHUl-qRaq"
      },
      "source": [
        "### 1.2 Tiền xử lý label\n",
        "Label giá trị trị từ 1-6 (cột score) là dữ liệu categorical.\n",
        " Nhưng để làm bài này, label phải là dữ liệu ordinary\n",
        " Biến đổi label CATEGORICAL SANG ORDINARY bằng cách :\n",
        "\n",
        " Encode label thành một vector nhị phân có độ dài 6, bit i bằng 1 nghĩa là đã thỏa yêu cầu i\n",
        " Các giá trị trong vector CHO BIẾT XÁC SUẤT VỊ TRÍ i THỎA YÊU CẦU i.\n",
        " Từ đó có thể sử dụng CROSS-ENTROPY để sử dụng hàm lỗi so sánh sự tương đồng giữa 2 phân phối.\n",
        "\n",
        " Từ trên ta tạo tính ORDINARY như sau:\n",
        "\n",
        " Bài được chấm điểm 1 <= i <= 6 nghĩa là đã thỏa mãn yêu cầu i, VÀ CŨNG THỎA TẤT CẢ CÁC YÊU CẦU TRƯỚC ĐÓ (<= i),\n",
        " nên các bit trong vector nhãn sẽ = 1 ở các vị trí <= i, và 0 ở các vị trí còn lại.\n",
        " Cách làm này giúp có TÍNH SO SÁNH, vì một khi được điểm j >= i, thì các bit 1 của điểm i cũng = 1 ở trong j"
      ]
    },
    {
      "cell_type": "code",
      "execution_count": 30,
      "metadata": {
        "id": "W3vRazPGqRaq"
      },
      "outputs": [],
      "source": [
        "def process_label(category):\n",
        "    y = int(category)\n",
        "    z = np.zeros(6)\n",
        "    z[:y] = 1\n",
        "    return z"
      ]
    },
    {
      "cell_type": "code",
      "execution_count": 31,
      "metadata": {
        "id": "NzIoud8NqRar"
      },
      "outputs": [],
      "source": [
        "X_train = [process_input(text) for text in X_train_df]\n",
        "X_val = [process_input(text) for text in X_val_df]\n",
        "y_train = [process_label(label) for label in y_train_df]\n",
        "y_val = [process_label(label) for label in y_val_df]"
      ]
    },
    {
      "cell_type": "markdown",
      "metadata": {
        "id": "bI_gDNfGqRar"
      },
      "source": [
        "## 2. Build chỉ mục tư điển và tạo dataset"
      ]
    },
    {
      "cell_type": "markdown",
      "metadata": {
        "id": "SQaW8xYiqRar"
      },
      "source": [
        "- `vocab`: để build chỉ mục tương ứng cho từng token của dữ liệu."
      ]
    },
    {
      "cell_type": "code",
      "execution_count": 32,
      "metadata": {
        "id": "SGDs4Mf0qRas"
      },
      "outputs": [],
      "source": [
        "vocab = build_vocab_from_iterator(iter(X_train), specials=[\"<unk>\", \"<pad>\"])\n",
        "vocab.set_default_index(vocab[\"<unk>\"])\n",
        "\n",
        "\n",
        "class ModelDataset(Dataset):\n",
        "    def __init__(self, X, y):\n",
        "        self.X = X\n",
        "        self.y = y\n",
        "\n",
        "    def __len__(self):\n",
        "        return len(self.X)\n",
        "\n",
        "    def __getitem__(self, idx):\n",
        "        tokens = self.X[idx]\n",
        "        label = self.y[idx]\n",
        "        return tokens, label\n",
        "\n",
        "\n",
        "train_ds = ModelDataset(X_train, y_train)\n",
        "valid_ds = ModelDataset(X_val, y_val)"
      ]
    },
    {
      "cell_type": "markdown",
      "metadata": {
        "id": "Mut_SxehqRas"
      },
      "source": [
        "- Viết hàm `collate_batch` để tiền xử lý các dữ liệu trong cùng 1 lô, đảm bảo các dũ liệu trong lô có cùng độ dài.\n",
        "- `pad_sequence`: dùng để padd cho các sequence cùng một lô có cùng độ dài.\n",
        "- Hàm trả về tuple có thêm một đối tượng `sequence length` dùng để gọi hàm `nn.utils.rnn.pack_padded_sequence`"
      ]
    },
    {
      "cell_type": "code",
      "execution_count": 33,
      "metadata": {
        "id": "SKtgRv8oqRas"
      },
      "outputs": [],
      "source": [
        "def collate_batch(batch):\n",
        "    inputs, seq_lengths, labels = [], [], []\n",
        "    for tokens, label in batch:\n",
        "        seq = torch.tensor(vocab(tokens), dtype=torch.int64)\n",
        "        inputs.append(seq)\n",
        "        seq_lengths.append(seq.size(0))\n",
        "        labels.append(label)\n",
        "    inputs = pad_sequence(inputs, padding_value=vocab[\"<pad>\"])\n",
        "    seq_lengths = torch.tensor(seq_lengths, dtype=torch.int64)\n",
        "    labels = torch.tensor(labels, dtype=torch.float)\n",
        "\n",
        "    seq_lengths, perm_idx = seq_lengths.sort(dim=0, descending=True)\n",
        "\n",
        "    inputs = inputs.transpose(0, 1)\n",
        "    inputs = inputs[perm_idx]\n",
        "    inputs = inputs.transpose(0, 1)\n",
        "\n",
        "    labels = labels[perm_idx]\n",
        "\n",
        "    return (\n",
        "        inputs.to(device),\n",
        "        seq_lengths.to(device),\n",
        "        labels.to(device),\n",
        "    )\n",
        "\n",
        "\n",
        "train_loader = DataLoader(\n",
        "    train_ds, batch_size=batch_size, shuffle=True, collate_fn=collate_batch\n",
        ")\n",
        "valid_loader = DataLoader(\n",
        "    valid_ds, batch_size=batch_size, shuffle=True, collate_fn=collate_batch\n",
        ")"
      ]
    },
    {
      "cell_type": "markdown",
      "metadata": {
        "id": "_eY_ye9gqRas"
      },
      "source": [
        "## 3. Build model"
      ]
    },
    {
      "cell_type": "code",
      "execution_count": 34,
      "metadata": {
        "id": "PSF_ZyVfqRas"
      },
      "outputs": [],
      "source": [
        "vocab_size = len(vocab)\n",
        "embedding_dim = 100\n",
        "hidden_dim = 256\n",
        "output_dim = 6\n",
        "n_layers = 2\n",
        "bidirectional = True\n",
        "padding_idx = vocab[\"<pad>\"]\n",
        "unk_idx = vocab[\"<unk>\"]"
      ]
    },
    {
      "cell_type": "code",
      "execution_count": 35,
      "metadata": {
        "id": "9OY_Dkm_qRat"
      },
      "outputs": [],
      "source": [
        "class Rnn_Model(nn.Module):\n",
        "    def __init__(self):\n",
        "        super().__init__()\n",
        "        self.embedding = nn.Embedding(\n",
        "            num_embeddings = vocab_size, embedding_dim= embedding_dim, padding_idx=padding_idx\n",
        "        )\n",
        "\n",
        "        self.dropout = nn.Dropout(0.5)\n",
        "        self.lstm = nn.LSTM(\n",
        "            embedding_dim,\n",
        "            hidden_dim,\n",
        "            num_layers=n_layers,\n",
        "            bidirectional=bidirectional,\n",
        "            dropout=0.5,\n",
        "        )\n",
        "        self.fc = nn.Linear(hidden_dim * 4, output_dim)\n",
        "\n",
        "    def forward(self, text, text_lengths):\n",
        "        x = self.embedding(text)\n",
        "        x = self.dropout(x)\n",
        "        packed = nn.utils.rnn.pack_padded_sequence(\n",
        "            x, text_lengths.to(\"cpu\")\n",
        "        )\n",
        "        packed_output, (hidden, cell) = self.lstm(packed)\n",
        "        x = hidden.view(hidden.shape[1],-1)\n",
        "        x = self.dropout(x)\n",
        "        return self.fc(x)\n",
        "\n",
        "\n",
        "model = Rnn_Model()"
      ]
    },
    {
      "cell_type": "markdown",
      "metadata": {
        "id": "-d4DVr-9qRat"
      },
      "source": [
        "## 3. Train Model"
      ]
    },
    {
      "cell_type": "code",
      "execution_count": 36,
      "metadata": {
        "colab": {
          "base_uri": "https://localhost:8080/"
        },
        "id": "yuvCEeQZqRat",
        "outputId": "56a6527f-50ab-44eb-9dfe-ee8494b23995"
      },
      "outputs": [
        {
          "name": "stdout",
          "output_type": "stream",
          "text": [
            "End epoch 1 on 66.816 seconds with loss: 0.689 val_loss: 0.686\n",
            "End epoch 2 on 58.961 seconds with loss: 0.684 val_loss: 0.680\n",
            "End epoch 3 on 57.624 seconds with loss: 0.679 val_loss: 0.674\n",
            "End epoch 4 on 58.029 seconds with loss: 0.673 val_loss: 0.668\n",
            "End epoch 5 on 57.498 seconds with loss: 0.667 val_loss: 0.661\n",
            "End epoch 6 on 57.812 seconds with loss: 0.659 val_loss: 0.652\n",
            "End epoch 7 on 59.691 seconds with loss: 0.651 val_loss: 0.642\n",
            "End epoch 8 on 58.465 seconds with loss: 0.640 val_loss: 0.629\n",
            "End epoch 9 on 57.478 seconds with loss: 0.627 val_loss: 0.612\n",
            "End epoch 10 on 59.315 seconds with loss: 0.609 val_loss: 0.586\n",
            "End epoch 11 on 57.884 seconds with loss: 0.577 val_loss: 0.535\n",
            "End epoch 12 on 58.605 seconds with loss: 0.495 val_loss: 0.428\n",
            "End epoch 13 on 59.896 seconds with loss: 0.424 val_loss: 0.403\n",
            "End epoch 14 on 58.263 seconds with loss: 0.405 val_loss: 0.390\n",
            "End epoch 15 on 58.184 seconds with loss: 0.394 val_loss: 0.380\n",
            "End epoch 16 on 59.458 seconds with loss: 0.385 val_loss: 0.370\n",
            "End epoch 17 on 58.534 seconds with loss: 0.376 val_loss: 0.358\n",
            "End epoch 18 on 58.233 seconds with loss: 0.365 val_loss: 0.350\n",
            "End epoch 19 on 58.864 seconds with loss: 0.355 val_loss: 0.334\n",
            "End epoch 20 on 58.443 seconds with loss: 0.342 val_loss: 0.320\n",
            "End epoch 21 on 58.006 seconds with loss: 0.329 val_loss: 0.297\n",
            "End epoch 22 on 59.780 seconds with loss: 0.309 val_loss: 0.262\n",
            "End epoch 23 on 57.870 seconds with loss: 0.275 val_loss: 0.239\n",
            "End epoch 24 on 57.802 seconds with loss: 0.249 val_loss: 0.226\n",
            "End epoch 25 on 58.790 seconds with loss: 0.235 val_loss: 0.220\n",
            "End epoch 26 on 57.823 seconds with loss: 0.229 val_loss: 0.221\n",
            "End epoch 27 on 57.940 seconds with loss: 0.225 val_loss: 0.219\n",
            "End epoch 28 on 58.183 seconds with loss: 0.225 val_loss: 0.216\n",
            "End epoch 29 on 57.659 seconds with loss: 0.224 val_loss: 0.213\n",
            "End epoch 30 on 58.605 seconds with loss: 0.223 val_loss: 0.215\n"
          ]
        }
      ],
      "source": [
        "import time\n",
        "\n",
        "\n",
        "optimizer = optim.Adam(model.parameters(),lr=lr)\n",
        "\n",
        "model = model.to(device)\n",
        "criterion = nn.BCEWithLogitsLoss().to(device)\n",
        "\n",
        "train_loss = []\n",
        "val_loss = []\n",
        "for epoch in range(epochs):\n",
        "    epoch_time = time.time()\n",
        "\n",
        "    epoch_loss = 0\n",
        "    batch_cnt = 0\n",
        "\n",
        "    model.train()\n",
        "    for inputs, text_lengths, labels in train_loader:\n",
        "        optimizer.zero_grad()\n",
        "\n",
        "        output = model(inputs, text_lengths)\n",
        "        loss = criterion(output, labels)\n",
        "        loss.backward()\n",
        "        optimizer.step()\n",
        "\n",
        "        epoch_loss += loss.item()\n",
        "        batch_cnt+=1\n",
        "\n",
        "    train_loss.append(epoch_loss/batch_cnt)\n",
        "\n",
        "    model.eval()\n",
        "    epoch_loss = 0\n",
        "    batch_cnt = 0\n",
        "    for inputs, text_lengths, labels in valid_loader:\n",
        "\n",
        "        output = model(inputs, text_lengths)\n",
        "        loss = criterion(output, labels)\n",
        "\n",
        "        epoch_loss += loss.item()\n",
        "        batch_cnt += 1\n",
        "\n",
        "    val_loss.append(epoch_loss/batch_cnt)\n",
        "    print(\n",
        "        \"End epoch\",\n",
        "        epoch+1,\n",
        "        \"on\",\n",
        "        format(time.time() - epoch_time, \".3f\"),\n",
        "        \"seconds with loss:\",\n",
        "        format(train_loss[-1], \".3f\"),\n",
        "        \"val_loss:\",\n",
        "        format(val_loss[-1],'.3f'),\n",
        "    )"
      ]
    },
    {
      "cell_type": "markdown",
      "metadata": {
        "id": "9D5tMR2xqRat"
      },
      "source": [
        "## 4. Export model và thống kê lỗi"
      ]
    },
    {
      "cell_type": "code",
      "execution_count": 37,
      "metadata": {
        "colab": {
          "base_uri": "https://localhost:8080/",
          "height": 449
        },
        "id": "1jDpEizNqRat",
        "outputId": "8561097a-6448-45b8-e4d1-1a973fb04537"
      },
      "outputs": [
        {
          "data": {
            "image/png": "[encoded data removed]",
            "text/plain": [
              "<Figure size 640x480 with 1 Axes>"
            ]
          },
          "metadata": {},
          "output_type": "display_data"
        }
      ],
      "source": [
        "torch.save(model.state_dict(), \"model.pth\")\n",
        "\n",
        "\n",
        "import matplotlib.pyplot as plt\n",
        "\n",
        "epoch_rows = range(1, epochs + 1)\n",
        "plt.plot(epoch_rows, train_loss, \"r-\")\n",
        "plt.plot(epoch_rows, val_loss, \"b-\")\n",
        "plt.legend([\"Training Loss\", \"Validation Loss\"])\n",
        "plt.xlabel(\"Epoch\")\n",
        "plt.ylabel(\"Loss\")\n",
        "\n",
        "plt.savefig(\"Loss_plot.png\")\n",
        "plt.show()"
      ]
    },
    {
      "cell_type": "markdown",
      "metadata": {
        "id": "6XfcdGgZKltJ"
      },
      "source": [
        "## 5. Chấm điểm cho dữ liệu test"
      ]
    },
    {
      "cell_type": "code",
      "execution_count": 41,
      "metadata": {
        "colab": {
          "base_uri": "https://localhost:8080/"
        },
        "id": "Z85S0zmlKltJ",
        "outputId": "8834338f-1cec-4532-b3de-b61996b31ecb"
      },
      "outputs": [
        {
          "name": "stdout",
          "output_type": "stream",
          "text": [
            "000d118 :  4\n",
            "000fe60 :  3\n",
            "001ab80 :  2\n"
          ]
        }
      ],
      "source": [
        "def collate(tokens_list):\n",
        "    inputs, seq_lengths = [], []\n",
        "    for tokens in tokens_list:\n",
        "        seq = torch.tensor(vocab(tokens), dtype=torch.int64)\n",
        "        inputs.append(seq)\n",
        "        seq_lengths.append(seq.size(0))\n",
        "    inputs = pad_sequence(inputs, padding_value=vocab[\"<pad>\"])\n",
        "    seq_lengths = torch.tensor(seq_lengths, dtype=torch.int64)\n",
        "\n",
        "    seq_lengths, perm_idx = seq_lengths.sort(dim=0, descending=True)\n",
        "\n",
        "    inputs = inputs.transpose(0, 1)\n",
        "    inputs = inputs[perm_idx]\n",
        "    inputs = inputs.transpose(0, 1)\n",
        "\n",
        "    return (\n",
        "        inputs.to(device),\n",
        "        seq_lengths.to(device),\n",
        "    )\n",
        "\n",
        "\n",
        "\n",
        "shutil.copy(\"./drive/MyDrive/test.csv\", \"./test.csv\")\n",
        "test_df = pd.read_csv(\"./test.csv\")\n",
        "X_test = [process_input(text) for text in test_df['full_text']]\n",
        "test_inputs,test_seq_lengths = collate(X_test)\n",
        "\n",
        "model_test = Rnn_Model()\n",
        "model_test.load_state_dict(torch.load(\"./model.pth\"))\n",
        "model_test.to(device)\n",
        "model_test.eval()\n",
        "\n",
        "predicts = model_test(test_inputs,test_seq_lengths)\n",
        "\n",
        "\n",
        "for i in range(len(test_df)):\n",
        "    predict = predicts[i]\n",
        "    print(test_df.iloc[i][\"essay_id\"], \": \",(predict >= 0.5).sum().item())"
      ]
    },
    {
      "cell_type": "markdown",
      "metadata": {
        "id": "SnoOcW2mKltK"
      },
      "source": [
        "## 6. Một vài ví dụ cho dữ liệu train"
      ]
    },
    {
      "cell_type": "code",
      "execution_count": 43,
      "metadata": {
        "colab": {
          "base_uri": "https://localhost:8080/"
        },
        "id": "pH3z4fY7KltK",
        "outputId": "30eed891-ae53-458f-e51e-9523715ed188"
      },
      "outputs": [
        {
          "name": "stdout",
          "output_type": "stream",
          "text": [
            "\u001b[1;32mTruth Score: \u001b[0m 3\n",
            "\u001b[1;36mPrediction: \u001b[0m 4\n",
            "\u001b[1;33mEssay: \u001b[0m The usage of cars around the whole world has been the main reason why the earth is facing with air pollution problems and day by day our ozone layer is breaking. To solve this problem we can limit the usage of cars or any type of moving vehicle that can harm us and use other efficient ways to get to places.\n",
            "\n",
            "There have been places in this world where they have started to move to make a difference in the earth. For example in source one \"Vauban's streets are completely \"car-free\" except the main thoroughfare, where the tram to downtown Freiburg runs...\" in Vauban, Germany there are alot of suburban communities who have giving up using cars or have sold their cars to make their houses where they live. Not only have they be making car free streets but also have taken out parking spaces so that people can reduce the usage of cars. This change can be either economicaly better for everyone but can also be useful for people to start thinking to go outside more. In Bogota, Colombia they have created a program that is set to spread to all the Colombians to hike, bike, skate and also take the bus to their jobs, it is a car-free day like stated in this statement from source 3 \"It was the third straight year cars have been banned with only buses and taxis permitted for the Day Without Cars in this capital city of 7 million. The goal is to promote alternative transportation and reduce smog. Violators faced $25 fines.\" This improvement campaign began in the mid-1990s.\n",
            "\n",
            "In other countires like in source two \"after days or near-record pollution, Paris enforced a partial ban to clear the air of the global city\" this was due to the large amount of smog that cars give out to the layers of air. The citizens of Paris would also have to pay a fine. Source two also states that \"Paris typically has more smog than other European capitlas... [last] week Paris had 147 micrograms of particular matter (PM) per cubic mater compared with 114 in Brussels and 79.7 in London, Reuters found.\" this is the reason why Paris has started to make a change. They are many other solutions to changing the cars we us today to others like electrical cars where you only have to charge them and you can use them it would not harm our ecosystem in any way. Driving a car not only affects our earth but can be very stressful for the driver because he or she would have to face in their every day life traffic jams, but looking for other ways to get to your destination would separate you from having to go through that everyday.\n",
            "\n",
            "One of the biggest produces of this problem is the United States of the America where all of the cars we know have been created and is also one the most more advanced countries. In source four is states that \"President Obamas's ambitious goals to curb the United States greenhouse gas emissions, unveiled las week, will get a fortuitous assist from an incipient shift in American behavior: recent studies suugest that Americans are buying fewer cars, drivinf less and getting fewer licenses as each year goes by.\" as hard as this sounds if we dont get to moving we will soon die little by little. We also lower down the percentage of car accidents if we reduce the usage of cars, the level of mortality would not decrease so fast.\n",
            "\n",
            "In conclusion, you have learned that driving a car is very harmful for the planet and if we dont start making a change our earth would be more polluted then how it is now. Start making a change and think smart.     \n",
            "\n",
            "\n",
            "---------------------------------------------------------------------------------------------------- \n",
            "\n",
            "\u001b[1;32mTruth Score: \u001b[0m 2\n",
            "\u001b[1;36mPrediction: \u001b[0m 3\n",
            "\u001b[1;33mEssay: \u001b[0m This Facial Action Coding System would be a great things to school to have. Imagine this you are sitting in class on your computer and you start to doze off, what does the program do? It reads your face and realizes that you are dozing off, so it makes your lesson much more fun by including more hands on activites or throwing in a joke to do with your lesson or an educational game.\n",
            "\n",
            "If schools actually used this people would love it. We wouldn't have to use certain programs like IXL, Aleks, and, Kahn academy. No one likes those programs besides the teachers because then they dont have to do as much work, now dont get me wrong here im not calling all teachers lazy but some of them actually are.\n",
            "\n",
            "This is why the Facial Action Coding System would be great for all ages not just highschool level or middle schoolers. Everyone would enjoy this. I think im going to do a research project over this and maybe I could change some peoples minds about it. Everyone loves fun every once in a while, it dosent have to be all the time either.\n",
            "\n",
            "\n",
            "---------------------------------------------------------------------------------------------------- \n",
            "\n",
            "\u001b[1;32mTruth Score: \u001b[0m 4\n",
            "\u001b[1;36mPrediction: \u001b[0m 3\n",
            "\u001b[1;33mEssay: \u001b[0m Driverless cars seems like a dream come true for many people. We have all viewd images of what driverless cars might be like in the future.Those images have inspired new inventions from sources such as google and bmw. I think that driverless cars are a great idea, but they may take away from the experience of actual driving. Driving is something that many people love to do, why give it up?\n",
            "\n",
            "Although I would not like to give up driving, driverless cars can offer humans many opportunities. The benefits of having driverless cars are less accidents due to texting, more free time, faster transportation, and less car accidents overall. Driverless cars could also result in the elimination for gas. Driverless cars in the future might be 'green' and electric.I think that driverless cars could be the safer idea, but some things just don't work out.\n",
            "\n",
            "Having a technical car could also have some downfalls. Driverless cars could malfunction in the middle of your trip. This malfunction could be due to the fast paced\n",
            "\n",
            "process of putting the car together. When driverless cars are a thing many people will want to buy them. This means that manufacturers are going to produce bundles of those cars. Manufacturers won't have time to test each car, so some with problems might slip through their fingers.\n",
            "\n",
            "What if there is a problem on the street that the driverless car cannot handle alone?Driverless cars today still needs the assistance of a human to overcome obstacles such as skids. Driverless cars today have sensors that alert the human if there is a problem. In the future they may not include sensors. Manufacturers sell you confidence, and things they make themselves believe. Sensors would make you think,\"Hey this car might not be the brightest idea.\"\n",
            "\n",
            "Safety is a huge thing when driving a car. Most states won't even allow the testing of driverless cars. Sensors are very useful in cars. They alert you when something is wrong. Driverless cars with sensors is a good idea. Even if the car can withstand the obstacle on its own, the human should still be on standby. As the passage stated it was too expensive to make the roads 'smarter', so the cars should be the smartest.\n",
            "\n",
            "If a driverless car gets into a car accident, who is to blame? The manufacturer would be the one to blame. Once they sell that car, they are giving you their word that you have bought a safe reliable vehicle. You are trusting them, they hold your future in their hands. Driverless cars are really cool, but the manufacturers have many questions to answer.\n",
            "\n",
            "In conclusion, driverless cars are a great idea. They can lessen the work and panic for everyday drivers. Most people think that driverless cars would be perfect, others would rather stay behing the wheel. I think that driverless cars would be cool, but I think that they would also take away the fun of driving. Windows down, hair blowing, listening to music while cruising with your friends. Who doesn't want that experience? \n",
            "\n",
            "\n",
            "---------------------------------------------------------------------------------------------------- \n",
            "\n",
            "\u001b[1;32mTruth Score: \u001b[0m 2\n",
            "\u001b[1;36mPrediction: \u001b[0m 2\n",
            "\u001b[1;33mEssay: \u001b[0m This goes out to the senator of florida. I think we need to chang to voteing way. We need to change it from the Electoral college to the most popular vote for the president of th Unitd States of America. Because whats the point of all of our parents and alot of other adults of voting if we can't even get what we want but no it's all up to the electors and congress, ect. like for real what is the point in voting if it isn't a fair shot.\n",
            "\n",
            "Now that I've read it we don't even vote for the prsident we vote for the slate of electorswho in turn elect the president. Whom are the electors? They can be anyone not holding public office. Who picks the electors in the first place? It depnds on the state sometimes state conventions sometimes the stateparty's centeral committee sometimes the presidential candidates themselves. Can voters control whom their electors vote for ? Not always. Do voters sometimes get confused about the electors and vote for the wrong canidate? Sometimes.\n",
            "\n",
            "At the most basic level the electoral college is unfair to voters. And dont likethat because the what the heck is happening if were not acktually voting for the president and just the electors. Like for real then whats the point of voting if were not getting what we want. When the goverment is all about giveing the people what they want. Like why can't they just let the people vote for the people the want to vote for like for real. This sucks that we can't get wht we deserve.    \n",
            "\n",
            "\n",
            "---------------------------------------------------------------------------------------------------- \n",
            "\n",
            "\u001b[1;32mTruth Score: \u001b[0m 3\n",
            "\u001b[1;36mPrediction: \u001b[0m 2\n",
            "\u001b[1;33mEssay: \u001b[0m I think that driveless cars are great because for example say if your on the road and your hands start to get tired you can relax and let your car do all the driving and driveless cars can also be good for people with arthoritist or people who have bad hands regardless of the causes.\n",
            "\n",
            "I think driveless cars are good because if your on the road and your hands start to get tired the car can do all of the work until you feel like driving again but you still have to be cautious and be aware of what your cars are doing. The car to me sounds great because in the story it quotes \" The combination of all this input is necessary for the driveless car to mimic the skill of a human at the wheel. So basically if you have a driveless car and your not holding the wheel the car would still drive perfect do to it having the skill that make the car drive like a human is\n",
            "\n",
            "behind the wheel. These cars also have problems you have to be ready and grab the wheel if your car lights blink indicating that you are about to hit someone or something.\n",
            "\n",
            "Driveless cars would also be good for people to have arthoritist because if the car drives it's self the person behind the wheel wouldn't really have to do anything only when the time comes. The story indicates that the people in the car entertainment are trying to make driveless cars fun because i know if someone just sitting in there cars doing nothing but listening to music they would get bored but i also know people with arthoritist would love these cars because they will not have to use there hands they could just sit back and listen to music. Driveless cars can be perfect for many people of all kinds and they can help in the society.\n",
            "\n",
            "Driveless cars can also be great for people that wants to have fun\n",
            "\n",
            "if they dont feel like driving. For example i dont recommend this but for people that drink and drive driveless cars can be a little bit better and prevent them from getting into a car accident. In the passage it states that this car has many alerts like the windshield wipers they flash if your about to crash or the seats shake so this is why this car is perfect.\n",
            "\n",
            "In conclusion now you know why i think driveless cars are perfect because they are good for the roads and good for people with arthoritist.\n",
            "\n",
            "\n"
          ]
        }
      ],
      "source": [
        "df_sample = df.sample(n=5)\n",
        "sample_X = [process_input(text) for text in df_sample[\"full_text\"]]\n",
        "sample_inputs, sample_seq_lengths = collate(sample_X)\n",
        "\n",
        "predicts = model_test(sample_inputs, sample_seq_lengths)\n",
        "\n",
        "for i in range(len(predicts)):\n",
        "    predict = predicts[i]\n",
        "    print(\"\\033[1;32mTruth Score: \\033[0m\", df_sample.iloc[i][\"score\"])\n",
        "    print(\"\\033[1;36mPrediction: \\033[0m\", (predict >= 0.5).sum().item())\n",
        "    print(\"\\033[1;33mEssay: \\033[0m\", df_sample.iloc[i][\"full_text\"])\n",
        "    print(\"\\n\")\n",
        "    if i != len(predicts) - 1:\n",
        "        print(100 * \"-\", \"\\n\")"
      ]
    }
  ],
  "metadata": {
    "accelerator": "GPU",
    "colab": {
      "gpuType": "T4",
      "provenance": []
    },
    "kernelspec": {
      "display_name": "Python 3",
      "name": "python3"
    },
    "language_info": {
      "name": "python",
      "version": "3.10.12"
    }
  },
  "nbformat": 4,
  "nbformat_minor": 0
}
